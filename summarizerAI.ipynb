{
 "cells": [
  {
   "cell_type": "markdown",
   "metadata": {},
   "source": [
    "# Text summarizer AI\n",
    "\n",
    "## Introduction\n",
    "**BART** (Bidirectional and Auto-Regressive Transformers) is a denoising autoencoder for pretraining sequence-to-sequence models. BART is trained by (1) corrupting text with an arbitrary noising function, and (2) learning a model to reconstruct the original text. \n",
    "\n",
    "**bart.large.cnn** model is pre-trained on English language, and fine-tuned on CNN Daily Mail. Number of parameters 400M.\n",
    "\n",
    "\n",
    "### 1. Setup"
   ]
  },
  {
   "cell_type": "code",
   "execution_count": null,
   "metadata": {},
   "outputs": [],
   "source": [
    "# Run this first in your kernel\n",
    "\n",
    "\n",
    "%pip install pytorch transformers\n",
    "# installing required modules"
   ]
  },
  {
   "cell_type": "markdown",
   "metadata": {},
   "source": [
    "## 2. Summarization"
   ]
  },
  {
   "cell_type": "code",
   "execution_count": null,
   "metadata": {},
   "outputs": [],
   "source": [
    "from transformers import pipeline\n",
    "\n",
    "summarizer = pipeline(\"summarization\", model=\"facebook/bart-large-cnn\")\n",
    "\n",
    "ARTICLE = \"\"\" I'm an IT Admin for infrastructure, this channel was one of the big reasons I wanted to do it for a living and this line of Chips, threadripper starting at ryzen gen 1 is possibly the single most important piece of hardware for this journey. I LOVE the idea of this super overkill option for consumers. If I had the money, I would run this in any and all of my computers I and my fam use privately, not because they're better for the applications or something but simply because they're so cool. I don't quite know what it is but these chips are the only ones that excite me quite this much on release. No other piece of hardware has ever excited me as much. It's not that I'm an amd fanboy, I recommend Intel chips to a lot of people when asked because for most people they're just better, they're just the only ones doing hedt and since they've had ryzen and that naming scheme for these they've just been dominating\n",
    "\"\"\"\n",
    "print(summarizer(ARTICLE, max_length=200, min_length=30, do_sample=False))"
   ]
  }
 ],
 "metadata": {
  "kernelspec": {
   "display_name": "Python 3",
   "language": "python",
   "name": "python3"
  },
  "language_info": {
   "codemirror_mode": {
    "name": "ipython",
    "version": 3
   },
   "file_extension": ".py",
   "mimetype": "text/x-python",
   "name": "python",
   "nbconvert_exporter": "python",
   "pygments_lexer": "ipython3",
   "version": "3.11.2"
  }
 },
 "nbformat": 4,
 "nbformat_minor": 2
}
